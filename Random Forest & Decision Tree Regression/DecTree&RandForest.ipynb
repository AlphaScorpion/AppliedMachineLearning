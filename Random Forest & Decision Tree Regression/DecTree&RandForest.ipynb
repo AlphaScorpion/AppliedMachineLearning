{
  "nbformat": 4,
  "nbformat_minor": 0,
  "metadata": {
    "colab": {
      "provenance": []
    },
    "kernelspec": {
      "name": "python3",
      "display_name": "Python 3"
    },
    "language_info": {
      "name": "python"
    }
  },
  "cells": [
    {
      "cell_type": "markdown",
      "source": [
        "**Name : Aishwarya Bhavsar**<br>\n",
        "**CSULB ID : 029371509**<br>\n",
        "**CECS 457 - Applied Machine Learning**<br>\n",
        "**Decision Tree Regression & Random Forest Regression.**"
      ],
      "metadata": {
        "id": "xtBeM9x23gGk"
      }
    },
    {
      "cell_type": "markdown",
      "source": [
        "## <font color='red'>**DECISION TREE REGRESSION**\n",
        "\n",
        "\n"
      ],
      "metadata": {
        "id": "97ts41GbTEny"
      }
    },
    {
      "cell_type": "code",
      "execution_count": 2,
      "metadata": {
        "id": "qCKlSAjbVQ5V"
      },
      "outputs": [],
      "source": [
        "#import required libraries\n",
        "import pandas as pd\n",
        "import numpy as np\n",
        "import matplotlib.pyplot as plt\n",
        "import seaborn as sns"
      ]
    },
    {
      "cell_type": "markdown",
      "source": [
        "**Import & Read The Dataset**"
      ],
      "metadata": {
        "id": "zopl-lGYVilY"
      }
    },
    {
      "cell_type": "code",
      "source": [
        "df = pd.read_csv('Position_Salaries.csv')\n",
        "\n",
        "X = df['Level'].values.reshape(-1,1)\n",
        "y = df['Salary'].values.reshape(-1,1)"
      ],
      "metadata": {
        "id": "128V76pqVePh"
      },
      "execution_count": 3,
      "outputs": []
    },
    {
      "cell_type": "markdown",
      "source": [
        "**Fitting Decision Tree Regression to the dataset**"
      ],
      "metadata": {
        "id": "vJ-0AZQ0Vu8_"
      }
    },
    {
      "cell_type": "code",
      "source": [
        "from sklearn.tree import DecisionTreeRegressor\n",
        "regressor = DecisionTreeRegressor(random_state = 0)\n",
        "regressor.fit(X, y)"
      ],
      "metadata": {
        "colab": {
          "base_uri": "https://localhost:8080/"
        },
        "id": "o7cmaGWrVeMJ",
        "outputId": "479f1719-1cdf-41a5-fecf-216246d47b73"
      },
      "execution_count": 4,
      "outputs": [
        {
          "output_type": "execute_result",
          "data": {
            "text/plain": [
              "DecisionTreeRegressor(random_state=0)"
            ]
          },
          "metadata": {},
          "execution_count": 4
        }
      ]
    },
    {
      "cell_type": "code",
      "source": [
        "regressor.predict(y)"
      ],
      "metadata": {
        "colab": {
          "base_uri": "https://localhost:8080/"
        },
        "id": "CHvwuV_KVeJf",
        "outputId": "01c99df7-18a2-421a-a4b1-d8382d209488"
      },
      "execution_count": 5,
      "outputs": [
        {
          "output_type": "execute_result",
          "data": {
            "text/plain": [
              "array([1000000., 1000000., 1000000., 1000000., 1000000., 1000000.,\n",
              "       1000000., 1000000., 1000000., 1000000.])"
            ]
          },
          "metadata": {},
          "execution_count": 5
        }
      ]
    },
    {
      "cell_type": "markdown",
      "source": [
        "**Visualizing the Linear Regression results**"
      ],
      "metadata": {
        "id": "wMjmBjzZWSE9"
      }
    },
    {
      "cell_type": "code",
      "source": [
        "# arange for creating a range of values \n",
        "# from min value of X to max value of X \n",
        "# with a difference of 0.01 between two\n",
        "# consecutive values\n",
        "X_grid = np.arange(min(X), max(X), 0.01)\n",
        "  \n",
        "# reshape for reshaping the data into \n",
        "# a len(X_grid)*1 array, i.e. to make\n",
        "# a column out of the X_grid values\n",
        "X_grid = X_grid.reshape((len(X_grid), 1)) \n",
        "  \n",
        "# scatter plot for original data\n",
        "plt.scatter(X, y, color = 'red')\n",
        "  \n",
        "# plot predicted data\n",
        "plt.plot(X_grid, regressor.predict(X_grid), color = 'blue') \n",
        "  \n",
        "# specify title\n",
        "plt.title('Truth or Bluff(Decision Tree Regression)') \n",
        "  \n",
        "# specify X axis label\n",
        "plt.xlabel('Position Level')\n",
        "  \n",
        "# specify Y axis label\n",
        "plt.ylabel('Salary')\n",
        "  \n",
        "# show the plot\n",
        "plt.show()"
      ],
      "metadata": {
        "colab": {
          "base_uri": "https://localhost:8080/",
          "height": 295
        },
        "id": "PQ2taty3WOoQ",
        "outputId": "e70c36d2-72fe-49ec-9bd6-7f34232d7ecc"
      },
      "execution_count": 13,
      "outputs": [
        {
          "output_type": "display_data",
          "data": {
            "text/plain": [
              "<Figure size 432x288 with 1 Axes>"
            ],
            "image/png": "[encoded data removed]"
          },
          "metadata": {
            "needs_background": "light"
          }
        }
      ]
    },
    {
      "cell_type": "code",
      "source": [
        "# Predict\n",
        "y_pred = regressor.predict([[6.5]])\n",
        "print('The predicted salary of a person at 6.5 Level is ',y_pred)"
      ],
      "metadata": {
        "colab": {
          "base_uri": "https://localhost:8080/"
        },
        "id": "1fq_bDmj4HwA",
        "outputId": "65793a16-b8fb-4a5b-915e-68fe01bd02c3"
      },
      "execution_count": 7,
      "outputs": [
        {
          "output_type": "stream",
          "name": "stdout",
          "text": [
            "The predicted salary of a person at 6.5 Level is  [150000.]\n"
          ]
        }
      ]
    },
    {
      "cell_type": "markdown",
      "source": [
        "**CONCLUSION :**"
      ],
      "metadata": {
        "id": "XZGyYauh5MFA"
      }
    },
    {
      "cell_type": "markdown",
      "source": [
        "**Decision Tree Regression gave a prediction of $150k**"
      ],
      "metadata": {
        "id": "UmTg5EIP5IYD"
      }
    },
    {
      "cell_type": "markdown",
      "source": [
        "## <font color='red'>**RANDOM FOREST REGRESSION**"
      ],
      "metadata": {
        "id": "kG_CwG7nTSbv"
      }
    },
    {
      "cell_type": "markdown",
      "source": [
        "**Fitting the Regression Model to the dataset with 10 tree prediction**"
      ],
      "metadata": {
        "id": "iz3Rwbf2UiOP"
      }
    },
    {
      "cell_type": "code",
      "source": [
        "from sklearn.ensemble import RandomForestRegressor\n",
        "regr_2 = RandomForestRegressor(n_estimators=10, random_state=0)\n",
        "regr_2 = regr_2.fit(X, y.ravel())"
      ],
      "metadata": {
        "id": "B-3isdsxU19i"
      },
      "execution_count": 23,
      "outputs": []
    },
    {
      "cell_type": "code",
      "source": [
        "y_2 = regr_2.predict(y)"
      ],
      "metadata": {
        "id": "huqCBr6rTZo6"
      },
      "execution_count": 24,
      "outputs": []
    },
    {
      "cell_type": "markdown",
      "source": [
        "**Visualisation**"
      ],
      "metadata": {
        "id": "bX_ayIa2WDmd"
      }
    },
    {
      "cell_type": "code",
      "source": [
        "plt.scatter(X, y, color = 'red')\n",
        "plt.plot(X_grid, regr_2.predict(X_grid), color = 'blue') \n",
        "plt.title('Truth or Bluff(Random Forest Regression)') \n",
        "plt.xlabel('Position Level')\n",
        "plt.ylabel('Salary')\n",
        "plt.show()"
      ],
      "metadata": {
        "colab": {
          "base_uri": "https://localhost:8080/",
          "height": 295
        },
        "id": "8qeNcq2-T_kv",
        "outputId": "1a2304e4-6540-4835-8af5-0d03870e1a49"
      },
      "execution_count": 25,
      "outputs": [
        {
          "output_type": "display_data",
          "data": {
            "text/plain": [
              "<Figure size 432x288 with 1 Axes>"
            ],
            "image/png": "[encoded data removed]"
          },
          "metadata": {
            "needs_background": "light"
          }
        }
      ]
    },
    {
      "cell_type": "markdown",
      "source": [
        "**Predict**"
      ],
      "metadata": {
        "id": "eZVMpHisWHxe"
      }
    },
    {
      "cell_type": "code",
      "source": [
        "# Predicting a new result\n",
        "y_pred = regr_2.predict([[6.5]])"
      ],
      "metadata": {
        "id": "MUG1LK0HUETH"
      },
      "execution_count": 28,
      "outputs": []
    },
    {
      "cell_type": "code",
      "source": [
        "print('The predicted salary of a person at 6.5 Level is ',y_pred)"
      ],
      "metadata": {
        "colab": {
          "base_uri": "https://localhost:8080/"
        },
        "id": "YhkiuvEqT_XA",
        "outputId": "31acc778-0092-4f24-b23a-ffe2aaefcaaf"
      },
      "execution_count": 29,
      "outputs": [
        {
          "output_type": "stream",
          "name": "stdout",
          "text": [
            "The predicted salary of a person at 6.5 Level is  [167000.]\n"
          ]
        }
      ]
    },
    {
      "cell_type": "markdown",
      "source": [
        "**Improves Accuracy**"
      ],
      "metadata": {
        "id": "ffyOWWetWLcH"
      }
    },
    {
      "cell_type": "code",
      "source": [
        "#Now we will add more trees to improve the accuracy of the prediction\n",
        "# Fitting the Regression Model to the dataset with 500 tree prediction\n",
        "from sklearn.ensemble import RandomForestRegressor\n",
        "regressor = RandomForestRegressor(n_estimators=500,random_state=0)\n",
        "regressor.fit(X, y)"
      ],
      "metadata": {
        "colab": {
          "base_uri": "https://localhost:8080/"
        },
        "id": "15pxDE4cVTTz",
        "outputId": "502c7b48-bde9-4a75-9e8f-ff7b7a7e937f"
      },
      "execution_count": 30,
      "outputs": [
        {
          "output_type": "stream",
          "name": "stderr",
          "text": [
            "/usr/local/lib/python3.7/dist-packages/ipykernel_launcher.py:5: DataConversionWarning: A column-vector y was passed when a 1d array was expected. Please change the shape of y to (n_samples,), for example using ravel().\n",
            "  \"\"\"\n"
          ]
        },
        {
          "output_type": "execute_result",
          "data": {
            "text/plain": [
              "RandomForestRegressor(n_estimators=500, random_state=0)"
            ]
          },
          "metadata": {},
          "execution_count": 30
        }
      ]
    },
    {
      "cell_type": "markdown",
      "source": [
        "**Visualisation**"
      ],
      "metadata": {
        "id": "fMqIHtGCWQXK"
      }
    },
    {
      "cell_type": "code",
      "source": [
        "# Visualising the Regression results (for higher resolution and smoother curve)\n",
        "X_grid = np.arange(min(X), max(X), 0.01)\n",
        "X_grid = X_grid.reshape((len(X_grid), 1))\n",
        "plt.scatter(X, y, color = 'red')\n",
        "plt.plot(X_grid, regressor.predict(X_grid), color = 'blue')\n",
        "plt.title('Truth or Bluff (Random Forest Regression)')\n",
        "plt.xlabel('Position level')\n",
        "plt.ylabel('Salary')\n",
        "plt.show()"
      ],
      "metadata": {
        "colab": {
          "base_uri": "https://localhost:8080/",
          "height": 295
        },
        "id": "VaFG9HrTV7Z8",
        "outputId": "2bc28cd0-3d39-4c3d-eac9-0e1beeb003c8"
      },
      "execution_count": 31,
      "outputs": [
        {
          "output_type": "display_data",
          "data": {
            "text/plain": [
              "<Figure size 432x288 with 1 Axes>"
            ],
            "image/png": "[encoded data removed]"
          },
          "metadata": {
            "needs_background": "light"
          }
        }
      ]
    },
    {
      "cell_type": "code",
      "source": [
        "# Predicting a new result\n",
        "y_pred = regressor.predict([[6.5]])"
      ],
      "metadata": {
        "id": "BexOYy0AV6a9"
      },
      "execution_count": 33,
      "outputs": []
    },
    {
      "cell_type": "code",
      "source": [
        "y_pred"
      ],
      "metadata": {
        "colab": {
          "base_uri": "https://localhost:8080/"
        },
        "id": "9DixBYTkWkTQ",
        "outputId": "4cb95581-d56d-4cc9-a483-f8dbca5ac719"
      },
      "execution_count": 34,
      "outputs": [
        {
          "output_type": "execute_result",
          "data": {
            "text/plain": [
              "array([160600.])"
            ]
          },
          "metadata": {},
          "execution_count": 34
        }
      ]
    },
    {
      "cell_type": "code",
      "source": [
        "print('The predicted salary of a person at 6.5 Level is ',y_pred)"
      ],
      "metadata": {
        "colab": {
          "base_uri": "https://localhost:8080/"
        },
        "id": "N7Z2qMq8WnyY",
        "outputId": "99b6e150-7d7d-4f96-bdf0-59ab9637e246"
      },
      "execution_count": 35,
      "outputs": [
        {
          "output_type": "stream",
          "name": "stdout",
          "text": [
            "The predicted salary of a person at 6.5 Level is  [160600.]\n"
          ]
        }
      ]
    },
    {
      "cell_type": "markdown",
      "source": [
        "**CONCLUSION:**"
      ],
      "metadata": {
        "id": "bPy67T4uW9fH"
      }
    },
    {
      "cell_type": "markdown",
      "source": [
        "**1. Random Forest Regression gave a prediction of $167k when the model is fitted on 10 trees.** <br>\n"
      ],
      "metadata": {
        "id": "5c8iIpDJXBby"
      }
    },
    {
      "cell_type": "markdown",
      "source": [
        "<b>2.Decision Tree Regression gave a prediction of $160k when fitted on 500 trees."
      ],
      "metadata": {
        "id": "R7Y0btHDXfTq"
      }
    }
  ]
}
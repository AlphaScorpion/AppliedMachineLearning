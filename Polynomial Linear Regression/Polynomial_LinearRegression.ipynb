{
  "nbformat": 4,
  "nbformat_minor": 0,
  "metadata": {
    "colab": {
      "provenance": [],
      "collapsed_sections": []
    },
    "kernelspec": {
      "name": "python3",
      "display_name": "Python 3"
    },
    "language_info": {
      "name": "python"
    }
  },
  "cells": [
    {
      "cell_type": "markdown",
      "source": [
        "**Name : Aishwarya Bhavsar**<br>\n",
        "**ID : 029371509**<br><br>\n",
        "**Group Members :** <br>\n",
        "**1. Peter Gatsby**<br>\n",
        "**2. Marcos Lopez**<br>\n",
        "\n",
        "**POLYNOMIAL LINEAR REGRESSION**\n"
      ],
      "metadata": {
        "id": "w8EI0HCCERLb"
      }
    },
    {
      "cell_type": "markdown",
      "source": [
        "**Import The Libraries**"
      ],
      "metadata": {
        "id": "Ii3YhH12FHYI"
      }
    },
    {
      "cell_type": "code",
      "execution_count": 1,
      "metadata": {
        "id": "KYz2huAZOWJE"
      },
      "outputs": [],
      "source": [
        "import numpy as np\n",
        "import matplotlib.pyplot as plt\n",
        "import pandas as pd"
      ]
    },
    {
      "cell_type": "markdown",
      "source": [
        "**Import & Read The Dataset**"
      ],
      "metadata": {
        "id": "UlVomDM0FL2A"
      }
    },
    {
      "cell_type": "code",
      "source": [
        "df = pd.read_csv('Position_Salaries.csv')\n",
        "\n",
        "X = df['Level'].values.reshape(-1,1)\n",
        "y = df['Salary'].values.reshape(-1,1)"
      ],
      "metadata": {
        "id": "HHvx_WplPZAf"
      },
      "execution_count": 2,
      "outputs": []
    },
    {
      "cell_type": "code",
      "source": [
        "X"
      ],
      "metadata": {
        "colab": {
          "base_uri": "https://localhost:8080/"
        },
        "id": "YiPc9o-xR1qU",
        "outputId": "25729192-6af5-4710-b45e-48423eba8c8e"
      },
      "execution_count": 3,
      "outputs": [
        {
          "output_type": "execute_result",
          "data": {
            "text/plain": [
              "array([[ 1],\n",
              "       [ 2],\n",
              "       [ 3],\n",
              "       [ 4],\n",
              "       [ 5],\n",
              "       [ 6],\n",
              "       [ 7],\n",
              "       [ 8],\n",
              "       [ 9],\n",
              "       [10]])"
            ]
          },
          "metadata": {},
          "execution_count": 3
        }
      ]
    },
    {
      "cell_type": "code",
      "source": [
        "y"
      ],
      "metadata": {
        "colab": {
          "base_uri": "https://localhost:8080/"
        },
        "id": "pJClWd5_TMVx",
        "outputId": "8ae0b608-80a0-4602-9180-46505fe05198"
      },
      "execution_count": 4,
      "outputs": [
        {
          "output_type": "execute_result",
          "data": {
            "text/plain": [
              "array([[  45000],\n",
              "       [  50000],\n",
              "       [  60000],\n",
              "       [  80000],\n",
              "       [ 110000],\n",
              "       [ 150000],\n",
              "       [ 200000],\n",
              "       [ 300000],\n",
              "       [ 500000],\n",
              "       [1000000]])"
            ]
          },
          "metadata": {},
          "execution_count": 4
        }
      ]
    },
    {
      "cell_type": "markdown",
      "source": [
        "**Fitting Linear Regression to the dataset**"
      ],
      "metadata": {
        "id": "4JRDYnEDFgc9"
      }
    },
    {
      "cell_type": "code",
      "source": [
        "from sklearn.linear_model import LinearRegression\n",
        "regressor = LinearRegression()\n",
        "regressor.fit(X, y)"
      ],
      "metadata": {
        "colab": {
          "base_uri": "https://localhost:8080/"
        },
        "id": "7c6ePZk9RoOK",
        "outputId": "acccd20f-b94a-45df-8628-90eefc275e4e"
      },
      "execution_count": 5,
      "outputs": [
        {
          "output_type": "execute_result",
          "data": {
            "text/plain": [
              "LinearRegression()"
            ]
          },
          "metadata": {},
          "execution_count": 5
        }
      ]
    },
    {
      "cell_type": "code",
      "source": [
        "regressor.predict(y)"
      ],
      "metadata": {
        "colab": {
          "base_uri": "https://localhost:8080/"
        },
        "id": "BIynapP5TQB9",
        "outputId": "3d252ad1-1469-4400-b94d-1812d5bb4d9d"
      },
      "execution_count": 6,
      "outputs": [
        {
          "output_type": "execute_result",
          "data": {
            "text/plain": [
              "array([[3.63935012e+09],\n",
              "       [4.04374406e+09],\n",
              "       [4.85253194e+09],\n",
              "       [6.47010770e+09],\n",
              "       [8.89647133e+09],\n",
              "       [1.21316228e+10],\n",
              "       [1.61755622e+10],\n",
              "       [2.42634410e+10],\n",
              "       [4.04391986e+10],\n",
              "       [8.08785925e+10]])"
            ]
          },
          "metadata": {},
          "execution_count": 6
        }
      ]
    },
    {
      "cell_type": "markdown",
      "source": [
        "**Visualizing the Linear Regression results**"
      ],
      "metadata": {
        "id": "eN0ljD3oFplG"
      }
    },
    {
      "cell_type": "code",
      "source": [
        "plt.scatter(X, y, color = 'red')\n",
        "plt.plot(X, regressor.predict(X), color = 'blue')\n",
        "plt.title('Truth or Bluff')\n",
        "plt.xlabel('Level')\n",
        "plt.ylabel('Salary')\n",
        "plt.show()"
      ],
      "metadata": {
        "colab": {
          "base_uri": "https://localhost:8080/",
          "height": 295
        },
        "id": "S_PGlLRgThaX",
        "outputId": "29be627c-d2ca-4fd2-d986-a0212a74565e"
      },
      "execution_count": 7,
      "outputs": [
        {
          "output_type": "display_data",
          "data": {
            "text/plain": [
              "<Figure size 432x288 with 1 Axes>"
            ],
            "image/png": "[encoded data removed]"
          },
          "metadata": {
            "needs_background": "light"
          }
        }
      ]
    },
    {
      "cell_type": "markdown",
      "source": [
        "**Fitting Polynomial Regression to the dataset**"
      ],
      "metadata": {
        "id": "5w_3I9HwFxBC"
      }
    },
    {
      "cell_type": "code",
      "source": [
        "from sklearn.preprocessing import PolynomialFeatures\n",
        "poly_reg = PolynomialFeatures(degree=4)\n",
        "X_poly = poly_reg.fit_transform(X)\n",
        "pol_reg = LinearRegression()\n",
        "pol_reg.fit(X_poly, y)"
      ],
      "metadata": {
        "colab": {
          "base_uri": "https://localhost:8080/"
        },
        "id": "Y3bRs2EtQaDR",
        "outputId": "5b91d5c6-d1ab-450d-9699-137e810b0c9e"
      },
      "execution_count": 8,
      "outputs": [
        {
          "output_type": "execute_result",
          "data": {
            "text/plain": [
              "LinearRegression()"
            ]
          },
          "metadata": {},
          "execution_count": 8
        }
      ]
    },
    {
      "cell_type": "markdown",
      "source": [
        "**Visualizing the Polymonial Regression results**"
      ],
      "metadata": {
        "id": "z2uKmv8MF4uk"
      }
    },
    {
      "cell_type": "code",
      "source": [
        "plt.scatter(X, y, color = 'red')\n",
        "plt.plot(X, pol_reg.predict(X_poly), color = 'blue')\n",
        "plt.title('Truth or Bluff')\n",
        "plt.xlabel('Level')\n",
        "plt.ylabel('Salary')\n",
        "plt.show()"
      ],
      "metadata": {
        "colab": {
          "base_uri": "https://localhost:8080/",
          "height": 295
        },
        "id": "Cl8P693EVjM8",
        "outputId": "f6496e89-24ca-41c9-f60d-524c553f4400"
      },
      "execution_count": 9,
      "outputs": [
        {
          "output_type": "display_data",
          "data": {
            "text/plain": [
              "<Figure size 432x288 with 1 Axes>"
            ],
            "image/png": "[encoded data removed]"
          },
          "metadata": {
            "needs_background": "light"
          }
        }
      ]
    },
    {
      "cell_type": "markdown",
      "source": [
        "**Predicting a new result with Linear Regression**"
      ],
      "metadata": {
        "id": "5xcQtH-cGEXq"
      }
    },
    {
      "cell_type": "code",
      "source": [
        "regressor.predict([[6.5]])"
      ],
      "metadata": {
        "colab": {
          "base_uri": "https://localhost:8080/"
        },
        "id": "wtY7ANaVGHfd",
        "outputId": "a87b1100-88b5-480f-a998-05dcc1d24f56"
      },
      "execution_count": 13,
      "outputs": [
        {
          "output_type": "execute_result",
          "data": {
            "text/plain": [
              "array([[330378.78787879]])"
            ]
          },
          "metadata": {},
          "execution_count": 13
        }
      ]
    },
    {
      "cell_type": "markdown",
      "source": [
        "**Predicting a new result with Polymonial Regression**"
      ],
      "metadata": {
        "id": "nWmCQw8hGX-t"
      }
    },
    {
      "cell_type": "code",
      "source": [
        "pol_reg.predict(poly_reg.fit_transform([[6.5]]))"
      ],
      "metadata": {
        "colab": {
          "base_uri": "https://localhost:8080/"
        },
        "id": "mGyUZTh2Gc98",
        "outputId": "07467964-0046-4506-fef4-e75e86e790a0"
      },
      "execution_count": 15,
      "outputs": [
        {
          "output_type": "execute_result",
          "data": {
            "text/plain": [
              "array([[158862.45265155]])"
            ]
          },
          "metadata": {},
          "execution_count": 15
        }
      ]
    },
    {
      "cell_type": "markdown",
      "source": [
        "**CONCLUSION :**"
      ],
      "metadata": {
        "id": "A_-ZGGHhGvFW"
      }
    },
    {
      "cell_type": "markdown",
      "source": [
        "<b>According to our data set, our salary should be:<br>\n",
        "110,000 < thesalary < 150,000"
      ],
      "metadata": {
        "id": "WyZd-pG9IDzy"
      }
    },
    {
      "cell_type": "markdown",
      "source": [
        "**But the predicted salary using Linear Regression is  $330,378.**"
      ],
      "metadata": {
        "id": "DcDxX2PeIUOo"
      }
    },
    {
      "cell_type": "markdown",
      "source": [
        "<b>Our polyregression value is 158,862 which is not very close to our Mean value which is $130,000."
      ],
      "metadata": {
        "id": "FZgybAGhIb1g"
      }
    },
    {
      "cell_type": "markdown",
      "source": [
        "**It’s time to let our candidate know we will offer him a best salary in class with $158,862!**"
      ],
      "metadata": {
        "id": "tMcR8DzqJhA0"
      }
    }
  ]
}
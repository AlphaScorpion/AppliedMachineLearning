{
  "nbformat": 4,
  "nbformat_minor": 0,
  "metadata": {
    "colab": {
      "provenance": []
    },
    "kernelspec": {
      "name": "python3",
      "display_name": "Python 3"
    },
    "language_info": {
      "name": "python"
    }
  },
  "cells": [
    {
      "cell_type": "markdown",
      "source": [
        "**Name : Aishwarya Bhavsar**<br>\n",
        "**CSULB ID : 029371509**<br>\n",
        "**CECS 457 - Applied Machine Learning**<br>\n",
        "**Decision Tree Regression**"
      ],
      "metadata": {
        "id": "xtBeM9x23gGk"
      }
    },
    {
      "cell_type": "code",
      "execution_count": 2,
      "metadata": {
        "id": "qCKlSAjbVQ5V"
      },
      "outputs": [],
      "source": [
        "#import required libraries\n",
        "import pandas as pd\n",
        "import numpy as np\n",
        "import matplotlib.pyplot as plt\n",
        "import seaborn as sns"
      ]
    },
    {
      "cell_type": "markdown",
      "source": [
        "**Import & Read The Dataset**"
      ],
      "metadata": {
        "id": "zopl-lGYVilY"
      }
    },
    {
      "cell_type": "code",
      "source": [
        "df = pd.read_csv('Position_Salaries.csv')\n",
        "\n",
        "X = df['Level'].values.reshape(-1,1)\n",
        "y = df['Salary'].values.reshape(-1,1)"
      ],
      "metadata": {
        "id": "128V76pqVePh"
      },
      "execution_count": 3,
      "outputs": []
    },
    {
      "cell_type": "markdown",
      "source": [
        "**Fitting Decision Tree Regression to the dataset**"
      ],
      "metadata": {
        "id": "vJ-0AZQ0Vu8_"
      }
    },
    {
      "cell_type": "code",
      "source": [
        "from sklearn.tree import DecisionTreeRegressor\n",
        "regressor = DecisionTreeRegressor(random_state = 0)\n",
        "regressor.fit(X, y)"
      ],
      "metadata": {
        "colab": {
          "base_uri": "https://localhost:8080/"
        },
        "id": "o7cmaGWrVeMJ",
        "outputId": "88be3e84-6203-4c2e-aa8b-f60ed8d359a1"
      },
      "execution_count": 4,
      "outputs": [
        {
          "output_type": "execute_result",
          "data": {
            "text/plain": [
              "DecisionTreeRegressor(random_state=0)"
            ]
          },
          "metadata": {},
          "execution_count": 4
        }
      ]
    },
    {
      "cell_type": "code",
      "source": [
        "regressor.predict(y)"
      ],
      "metadata": {
        "colab": {
          "base_uri": "https://localhost:8080/"
        },
        "id": "CHvwuV_KVeJf",
        "outputId": "813f775a-21dc-48b9-a400-aecc100ec744"
      },
      "execution_count": 5,
      "outputs": [
        {
          "output_type": "execute_result",
          "data": {
            "text/plain": [
              "array([1000000., 1000000., 1000000., 1000000., 1000000., 1000000.,\n",
              "       1000000., 1000000., 1000000., 1000000.])"
            ]
          },
          "metadata": {},
          "execution_count": 5
        }
      ]
    },
    {
      "cell_type": "markdown",
      "source": [
        "**Visualizing the Linear Regression results**"
      ],
      "metadata": {
        "id": "wMjmBjzZWSE9"
      }
    },
    {
      "cell_type": "code",
      "source": [
        "# arange for creating a range of values \n",
        "# from min value of X to max value of X \n",
        "# with a difference of 0.01 between two\n",
        "# consecutive values\n",
        "X_grid = np.arange(min(X), max(X), 0.01)\n",
        "  \n",
        "# reshape for reshaping the data into \n",
        "# a len(X_grid)*1 array, i.e. to make\n",
        "# a column out of the X_grid values\n",
        "X_grid = X_grid.reshape((len(X_grid), 1)) \n",
        "  \n",
        "# scatter plot for original data\n",
        "plt.scatter(X, y, color = 'red')\n",
        "  \n",
        "# plot predicted data\n",
        "plt.plot(X_grid, regressor.predict(X_grid), color = 'blue') \n",
        "  \n",
        "# specify title\n",
        "plt.title('(Decision Tree Regression)') \n",
        "  \n",
        "# specify X axis label\n",
        "plt.xlabel('Position Level')\n",
        "  \n",
        "# specify Y axis label\n",
        "plt.ylabel('Salary')\n",
        "  \n",
        "# show the plot\n",
        "plt.show()"
      ],
      "metadata": {
        "colab": {
          "base_uri": "https://localhost:8080/",
          "height": 295
        },
        "id": "PQ2taty3WOoQ",
        "outputId": "18c56d33-b84e-45ad-fc94-3a77a1b2adaa"
      },
      "execution_count": 6,
      "outputs": [
        {
          "output_type": "display_data",
          "data": {
            "text/plain": [
              "<Figure size 432x288 with 1 Axes>"
            ],
            "image/png": "[encoded data removed]"
          },
          "metadata": {
            "needs_background": "light"
          }
        }
      ]
    },
    {
      "cell_type": "code",
      "source": [
        "# Predict\n",
        "y_pred = regressor.predict([[6.5]])\n",
        "print('The predicted salary of a person at 6.5 Level is ',y_pred)"
      ],
      "metadata": {
        "colab": {
          "base_uri": "https://localhost:8080/"
        },
        "id": "1fq_bDmj4HwA",
        "outputId": "4e410c1d-1613-4c93-a2f5-0327748d805a"
      },
      "execution_count": 7,
      "outputs": [
        {
          "output_type": "stream",
          "name": "stdout",
          "text": [
            "The predicted salary of a person at 6.5 Level is  [150000.]\n"
          ]
        }
      ]
    },
    {
      "cell_type": "markdown",
      "source": [
        "**CONCLUSION :**"
      ],
      "metadata": {
        "id": "XZGyYauh5MFA"
      }
    },
    {
      "cell_type": "markdown",
      "source": [
        "**Decision Tree Regression gave a prediction of $150k**"
      ],
      "metadata": {
        "id": "UmTg5EIP5IYD"
      }
    }
  ]
}